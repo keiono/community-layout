{
 "cells": [
  {
   "cell_type": "markdown",
   "metadata": {},
   "source": [
    "# Create group assignments"
   ]
  },
  {
   "cell_type": "code",
   "execution_count": 1,
   "metadata": {},
   "outputs": [],
   "source": [
    "import ndex2.client as nc\n",
    "import io\n",
    "import json\n",
    "import ndex2\n",
    "\n",
    "# Root raw interaction network for Nest\n",
    "ROOT_UUID = \"bf1b0392-1adb-11ea-a741-0660b7976219\""
   ]
  },
  {
   "cell_type": "code",
   "execution_count": 2,
   "metadata": {},
   "outputs": [
    {
     "name": "stdout",
     "output_type": "stream",
     "text": [
      "Name: NeST_final_test_20191209-152700 supporting network for NEST\n",
      "Nodes: 5452\n",
      "Edges: 336377\n",
      "Node Attributes: 234436\n",
      "Edge Attributes: 336377\n",
      "\n"
     ]
    }
   ],
   "source": [
    "client = nc.Ndex2(\"http://test.ndexbio.org\")\n",
    "\n",
    "root_cx = ndex2.create_nice_cx_from_server(server='test.ndexbio.org', uuid=ROOT_UUID)\n",
    "root_cx.print_summary()\n",
    "\n",
    "nodes = root_cx.nodes\n",
    "nodeAttr = root_cx.nodeAttributes"
   ]
  },
  {
   "cell_type": "markdown",
   "metadata": {},
   "source": [
    "## Create set of genes for each subsystem with overraps\n",
    "The dict has name of subsystem as key, and values are set of genes assigned to the system"
   ]
  },
  {
   "cell_type": "code",
   "execution_count": 3,
   "metadata": {},
   "outputs": [],
   "source": [
    "# This contains membership for each subsystem\n",
    "subsystems = {}\n",
    "\n",
    "for key in nodeAttr:\n",
    "    # All attributes for a gene\n",
    "    attr = nodeAttr[key]    \n",
    "    for entry in attr:\n",
    "        gene_id = entry[\"po\"]\n",
    "        dataType = entry[\"d\"]\n",
    "        if dataType == 'boolean':\n",
    "            name = entry[\"n\"]\n",
    "            value = entry[\"v\"]\n",
    "            \n",
    "            system_members = set()\n",
    "            if name in subsystems.keys():\n",
    "                system_members = subsystems[name]\n",
    "            \n",
    "            if value == 'true':\n",
    "                system_members.add(gene_id)\n",
    "\n",
    "            subsystems[name] = system_members"
   ]
  },
  {
   "cell_type": "code",
   "execution_count": 5,
   "metadata": {},
   "outputs": [
    {
     "name": "stdout",
     "output_type": "stream",
     "text": [
      "Group:NEST:277 2\n",
      "Group:NEST:362 3\n",
      "Group:NEST:325 4\n",
      "Group:NEST:238 4\n",
      "Group:NEST:239 4\n",
      "Group:NEST:260 5\n",
      "Group:NEST:237 5\n",
      "Group:NEST:217 6\n",
      "Group:NEST:145 10\n",
      "Group:NEST:116 13\n",
      "Group:NEST:108 15\n",
      "Group:NEST:97 18\n",
      "Group:NEST:66 18\n",
      "Group:NEST:43 51\n",
      "Group:NEST:35 86\n",
      "Group:NEST:32 119\n",
      "Group:NEST:18 128\n",
      "Group:NEST:33 138\n",
      "Group:NEST:16 153\n",
      "Group:NEST:28 153\n",
      "Group:NEST:29 220\n",
      "Group:NEST:19 229\n",
      "Group:NEST:26 243\n",
      "Group:NEST:23 252\n",
      "Group:NEST:25 263\n",
      "Group:NEST:24 264\n",
      "Group:NEST:12 378\n",
      "Group:NEST:20 407\n",
      "Group:NEST:14 435\n",
      "Group:NEST:17 509\n",
      "Group:NEST:13 545\n",
      "Group:NEST:15 560\n",
      "Group:NEST:7 571\n",
      "Group:NEST:8 611\n",
      "Group:NEST:11 622\n",
      "Group:NEST:4 625\n",
      "Group:NEST:5 685\n",
      "Group:NEST:9 715\n",
      "Group:NEST:10 794\n",
      "Group:NEST:1 828\n",
      "Group:NEST:3 957\n",
      "Group:NEST:6 966\n",
      "Group:NEST:2 1098\n"
     ]
    }
   ],
   "source": [
    "# Check the result: Smallest subsystem to the largest\n",
    "sorted_systems = {k: v for k, v in sorted(subsystems.items(), key=lambda item: len(item[1]))}\n",
    "for key in sorted_systems.keys():\n",
    "    print(key, len(sorted_systems[key]))"
   ]
  },
  {
   "cell_type": "markdown",
   "metadata": {},
   "source": [
    "## Count number of genes in each system"
   ]
  },
  {
   "cell_type": "code",
   "execution_count": null,
   "metadata": {},
   "outputs": [],
   "source": [
    "# clusterMap = {}\n",
    "# gene_counts = {}\n",
    "\n",
    "# for key in nodeAttr:\n",
    "#     attr = nodeAttr[key]    \n",
    "#     for entry in attr:\n",
    "#         pointer = entry[\"po\"]\n",
    "#         if pointer in clusterMap.keys():\n",
    "#             members = clusterMap[pointer]\n",
    "#         else:\n",
    "#             members = []\n",
    "\n",
    "#         dataType = entry[\"d\"]\n",
    "#         if dataType == 'boolean':\n",
    "#             name = entry[\"n\"]\n",
    "#             value = entry[\"v\"]\n",
    "            \n",
    "#             count = 0\n",
    "#             if name in gene_counts.keys():\n",
    "#                 count = gene_counts[name]\n",
    "            \n",
    "#             if value == 'true':\n",
    "#                 members.append(name)\n",
    "#                 count += 1\n",
    "            \n",
    "#             gene_counts[name] = count\n",
    "\n",
    "#         clusterMap[pointer] = members\n",
    "    \n",
    "# print(len(clusterMap), len(gene_counts))\n",
    "# gene_counts"
   ]
  },
  {
   "cell_type": "code",
   "execution_count": null,
   "metadata": {},
   "outputs": [],
   "source": [
    "# Sort small to large\n",
    "# ranking = {k: v for k, v in sorted(gene_counts.items(), key=lambda item: item[1])}"
   ]
  },
  {
   "cell_type": "code",
   "execution_count": null,
   "metadata": {},
   "outputs": [],
   "source": [
    "# print(ranking)"
   ]
  },
  {
   "cell_type": "code",
   "execution_count": 6,
   "metadata": {},
   "outputs": [
    {
     "data": {
      "text/plain": [
       "['Group:NEST:2',\n",
       " 'Group:NEST:6',\n",
       " 'Group:NEST:3',\n",
       " 'Group:NEST:1',\n",
       " 'Group:NEST:10',\n",
       " 'Group:NEST:9',\n",
       " 'Group:NEST:5',\n",
       " 'Group:NEST:4',\n",
       " 'Group:NEST:11',\n",
       " 'Group:NEST:8',\n",
       " 'Group:NEST:7',\n",
       " 'Group:NEST:15',\n",
       " 'Group:NEST:13',\n",
       " 'Group:NEST:17',\n",
       " 'Group:NEST:14',\n",
       " 'Group:NEST:20',\n",
       " 'Group:NEST:12',\n",
       " 'Group:NEST:24',\n",
       " 'Group:NEST:25',\n",
       " 'Group:NEST:23',\n",
       " 'Group:NEST:26',\n",
       " 'Group:NEST:19',\n",
       " 'Group:NEST:29',\n",
       " 'Group:NEST:28',\n",
       " 'Group:NEST:16',\n",
       " 'Group:NEST:33',\n",
       " 'Group:NEST:18',\n",
       " 'Group:NEST:32',\n",
       " 'Group:NEST:35',\n",
       " 'Group:NEST:43',\n",
       " 'Group:NEST:66',\n",
       " 'Group:NEST:97',\n",
       " 'Group:NEST:108',\n",
       " 'Group:NEST:116',\n",
       " 'Group:NEST:145',\n",
       " 'Group:NEST:217',\n",
       " 'Group:NEST:237',\n",
       " 'Group:NEST:260',\n",
       " 'Group:NEST:239',\n",
       " 'Group:NEST:238',\n",
       " 'Group:NEST:325',\n",
       " 'Group:NEST:362',\n",
       " 'Group:NEST:277']"
      ]
     },
     "execution_count": 6,
     "metadata": {},
     "output_type": "execute_result"
    }
   ],
   "source": [
    "# Revered keys\n",
    "rank_list = list(sorted_systems.keys())\n",
    "rank_list.reverse()\n",
    "rank_list"
   ]
  },
  {
   "cell_type": "code",
   "execution_count": 8,
   "metadata": {},
   "outputs": [
    {
     "data": {
      "text/plain": [
       "28"
      ]
     },
     "execution_count": 8,
     "metadata": {},
     "output_type": "execute_result"
    }
   ],
   "source": [
    "# Choose from largest to smallest without overlap\n",
    "assignedMember = {}\n",
    "# Set of all gene IDs\n",
    "all_genes = set(map(lambda key : nodes[key][\"@id\"], list(nodes.keys())))\n",
    "\n",
    "for key in rank_list:\n",
    "    genes = sorted_systems[key]\n",
    "    for gene in genes:\n",
    "        # Only if it is not assiged to other subsystem\n",
    "        if gene in all_genes:\n",
    "            assignedMember[gene] = key\n",
    "            all_genes.remove(gene)\n",
    "\n",
    "# total number of subsystems with gene assignments\n",
    "len(set(assignedMember.values()))"
   ]
  },
  {
   "cell_type": "code",
   "execution_count": null,
   "metadata": {},
   "outputs": [],
   "source": [
    "# # For simple large to small assignment\n",
    "# def findTopGene(genes, ranking):\n",
    "#     top = None\n",
    "#     final_member = None\n",
    "#     for gene in genes:\n",
    "#         member_count = ranking[gene]\n",
    "#         if top is None:\n",
    "#             top = member_count\n",
    "#             final_member = gene\n",
    "#         elif top > member_count:\n",
    "#             top = member_count\n",
    "#             final_member = gene\n",
    "#     return final_member\n",
    "\n",
    "# assignedMember = {}\n",
    "# for key in clusterMap.keys():\n",
    "#     genes = clusterMap[key]\n",
    "#     top = findTopGene(genes, gene_counts)\n",
    "#     assignedMember[key] = top\n",
    "\n"
   ]
  },
  {
   "cell_type": "code",
   "execution_count": 9,
   "metadata": {},
   "outputs": [],
   "source": [
    "# Assign subsystem name for each gene\n",
    "for key in assignedMember.keys():\n",
    "#     root_cx.add_node_attribute(property_of=key, name='membership', values=clusterMap[key])\n",
    "    root_cx.add_node_attribute(property_of=key, name='layoutMember', values=assignedMember[key])"
   ]
  },
  {
   "cell_type": "code",
   "execution_count": 10,
   "metadata": {},
   "outputs": [
    {
     "name": "stdout",
     "output_type": "stream",
     "text": [
      "Generating CX\n"
     ]
    }
   ],
   "source": [
    "root_cx.nodeAttributes[0]\n",
    "\n",
    "new_cx = root_cx.to_cx()\n",
    "\n",
    "# out_file = 'newCX2_reverse.cx'\n",
    "out_file_name = 'root_with_groups.cx'\n",
    "\n",
    "with open(out_file_name, 'w') as outfile:\n",
    "    json.dump(new_cx, outfile)"
   ]
  },
  {
   "cell_type": "markdown",
   "metadata": {},
   "source": [
    "## Export to GraphML"
   ]
  },
  {
   "cell_type": "code",
   "execution_count": 11,
   "metadata": {},
   "outputs": [],
   "source": [
    "import networkx as nx"
   ]
  },
  {
   "cell_type": "code",
   "execution_count": 20,
   "metadata": {},
   "outputs": [],
   "source": [
    "nx_graph = root_cx.to_networkx()\n",
    "# nx.get_node_attributes(nx_graph, 'layoutMember')\n",
    "\n",
    "# nx.write_graphml_lxml(nx_graph, \"nest-grouped.graphml\")"
   ]
  }
 ],
 "metadata": {
  "kernelspec": {
   "display_name": "Python 3",
   "language": "python",
   "name": "python3"
  },
  "language_info": {
   "codemirror_mode": {
    "name": "ipython",
    "version": 3
   },
   "file_extension": ".py",
   "mimetype": "text/x-python",
   "name": "python",
   "nbconvert_exporter": "python",
   "pygments_lexer": "ipython3",
   "version": "3.8.2"
  }
 },
 "nbformat": 4,
 "nbformat_minor": 4
}
