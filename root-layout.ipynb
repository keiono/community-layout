{
 "cells": [
  {
   "cell_type": "code",
   "execution_count": 1,
   "metadata": {},
   "outputs": [],
   "source": [
    "import ndex2.client as nc\n",
    "import io\n",
    "import json\n",
    "import ndex2\n",
    "\n",
    "ROOT_UUID = \"bf1b0392-1adb-11ea-a741-0660b7976219\""
   ]
  },
  {
   "cell_type": "code",
   "execution_count": 2,
   "metadata": {},
   "outputs": [],
   "source": [
    "client = nc.Ndex2(\"http://test.ndexbio.org\")\n",
    "summary1 = client.get_network_summary(ROOT_UUID)"
   ]
  },
  {
   "cell_type": "code",
   "execution_count": 3,
   "metadata": {},
   "outputs": [
    {
     "name": "stdout",
     "output_type": "stream",
     "text": [
      "Name: NeST_final_test_20191209-152700 supporting network for NEST\n",
      "Nodes: 5452\n",
      "Edges: 336377\n",
      "Node Attributes: 234436\n",
      "Edge Attributes: 336377\n",
      "\n"
     ]
    }
   ],
   "source": [
    "root_cx = ndex2.create_nice_cx_from_server(server='test.ndexbio.org', uuid=ROOT_UUID)\n",
    "root_cx.print_summary()"
   ]
  },
  {
   "cell_type": "code",
   "execution_count": 4,
   "metadata": {},
   "outputs": [],
   "source": [
    "nodes = root_cx.nodes\n",
    "nodeAttr = root_cx.nodeAttributes\n"
   ]
  },
  {
   "cell_type": "code",
   "execution_count": 5,
   "metadata": {},
   "outputs": [
    {
     "name": "stdout",
     "output_type": "stream",
     "text": [
      "5452 43\n",
      "{'Group:NEST:25': 263, 'Group:NEST:35': 86, 'Group:NEST:15': 560, 'Group:NEST:14': 435, 'Group:NEST:17': 509, 'Group:NEST:16': 153, 'Group:NEST:11': 622, 'Group:NEST:10': 794, 'Group:NEST:13': 545, 'Group:NEST:12': 378, 'Group:NEST:145': 10, 'Group:NEST:19': 229, 'Group:NEST:18': 128, 'Group:NEST:97': 18, 'Group:NEST:260': 5, 'Group:NEST:5': 685, 'Group:NEST:4': 625, 'Group:NEST:7': 571, 'Group:NEST:116': 13, 'Group:NEST:1': 828, 'Group:NEST:3': 957, 'Group:NEST:2': 1098, 'Group:NEST:9': 715, 'Group:NEST:8': 611, 'Group:NEST:28': 153, 'Group:NEST:29': 220, 'Group:NEST:66': 18, 'Group:NEST:24': 264, 'Group:NEST:43': 51, 'Group:NEST:26': 243, 'Group:NEST:20': 407, 'Group:NEST:23': 252, 'Group:NEST:33': 138, 'Group:NEST:32': 119, 'Group:NEST:277': 2, 'Group:NEST:6': 966, 'Group:NEST:325': 4, 'Group:NEST:238': 4, 'Group:NEST:239': 4, 'Group:NEST:362': 3, 'Group:NEST:217': 6, 'Group:NEST:108': 15, 'Group:NEST:237': 5}\n"
     ]
    }
   ],
   "source": [
    "clusterMap = {}\n",
    "gene_counts = {}\n",
    "\n",
    "for key in nodeAttr:\n",
    "    attr = nodeAttr[key]    \n",
    "    for entry in attr:\n",
    "        pointer = entry[\"po\"]\n",
    "        if pointer in clusterMap.keys():\n",
    "            members = clusterMap[pointer]\n",
    "        else:\n",
    "            members = []\n",
    "\n",
    "        dataType = entry[\"d\"]\n",
    "        if dataType == 'boolean':\n",
    "            name = entry[\"n\"]\n",
    "            value = entry[\"v\"]\n",
    "            \n",
    "            count = 0\n",
    "            if name in gene_counts.keys():\n",
    "                count = gene_counts[name]\n",
    "            \n",
    "            \n",
    "            if value == 'true':\n",
    "                members.append(name)\n",
    "                count += 1\n",
    "            \n",
    "            gene_counts[name] = count\n",
    "\n",
    "        clusterMap[pointer] = members\n",
    "    \n",
    "print(len(clusterMap), len(gene_counts))\n",
    "print(gene_counts)"
   ]
  },
  {
   "cell_type": "code",
   "execution_count": 6,
   "metadata": {},
   "outputs": [],
   "source": [
    "# Sort\n",
    "ranking = {k: v for k, v in sorted(gene_counts.items(), key=lambda item: item[1])}"
   ]
  },
  {
   "cell_type": "code",
   "execution_count": 7,
   "metadata": {},
   "outputs": [
    {
     "name": "stdout",
     "output_type": "stream",
     "text": [
      "{'Group:NEST:277': 2, 'Group:NEST:362': 3, 'Group:NEST:325': 4, 'Group:NEST:238': 4, 'Group:NEST:239': 4, 'Group:NEST:260': 5, 'Group:NEST:237': 5, 'Group:NEST:217': 6, 'Group:NEST:145': 10, 'Group:NEST:116': 13, 'Group:NEST:108': 15, 'Group:NEST:97': 18, 'Group:NEST:66': 18, 'Group:NEST:43': 51, 'Group:NEST:35': 86, 'Group:NEST:32': 119, 'Group:NEST:18': 128, 'Group:NEST:33': 138, 'Group:NEST:16': 153, 'Group:NEST:28': 153, 'Group:NEST:29': 220, 'Group:NEST:19': 229, 'Group:NEST:26': 243, 'Group:NEST:23': 252, 'Group:NEST:25': 263, 'Group:NEST:24': 264, 'Group:NEST:12': 378, 'Group:NEST:20': 407, 'Group:NEST:14': 435, 'Group:NEST:17': 509, 'Group:NEST:13': 545, 'Group:NEST:15': 560, 'Group:NEST:7': 571, 'Group:NEST:8': 611, 'Group:NEST:11': 622, 'Group:NEST:4': 625, 'Group:NEST:5': 685, 'Group:NEST:9': 715, 'Group:NEST:10': 794, 'Group:NEST:1': 828, 'Group:NEST:3': 957, 'Group:NEST:6': 966, 'Group:NEST:2': 1098}\n"
     ]
    }
   ],
   "source": [
    "print(ranking)"
   ]
  },
  {
   "cell_type": "code",
   "execution_count": 8,
   "metadata": {},
   "outputs": [],
   "source": [
    "rank_list = list(ranking.keys())\n",
    "clusterMap\n",
    "\n",
    "def findTopGene(genes, ranking):\n",
    "    top = None\n",
    "    final_member = None\n",
    "    for gene in genes:\n",
    "        member_count = ranking[gene]\n",
    "        if top is None:\n",
    "            top = member_count\n",
    "            final_member = gene\n",
    "        elif top > member_count:\n",
    "            top = member_count\n",
    "            final_member = gene\n",
    "    return final_member\n",
    "\n",
    "\n",
    "assignedMember = {}\n",
    "for key in clusterMap.keys():\n",
    "    genes = clusterMap[key]\n",
    "    top = findTopGene(genes, gene_counts)\n",
    "    assignedMember[key] = top\n",
    "    "
   ]
  },
  {
   "cell_type": "code",
   "execution_count": 9,
   "metadata": {},
   "outputs": [],
   "source": [
    "for key in clusterMap.keys():\n",
    "    root_cx.add_node_attribute(property_of=key, name='membership', values=clusterMap[key])\n",
    "    root_cx.add_node_attribute(property_of=key, name='layoutMember', values=assignedMember[key])"
   ]
  },
  {
   "cell_type": "code",
   "execution_count": 10,
   "metadata": {},
   "outputs": [
    {
     "data": {
      "text/plain": [
       "[{'po': 0, 'n': 'Group:NEST:25', 'v': 'false', 'd': 'boolean'},\n",
       " {'po': 0, 'n': 'Group:NEST:35', 'v': 'false', 'd': 'boolean'},\n",
       " {'po': 0, 'n': 'Group:NEST:15', 'v': 'true', 'd': 'boolean'},\n",
       " {'po': 0, 'n': 'Group:NEST:14', 'v': 'false', 'd': 'boolean'},\n",
       " {'po': 0, 'n': 'Group:NEST:17', 'v': 'false', 'd': 'boolean'},\n",
       " {'po': 0, 'n': 'Group:NEST:16', 'v': 'false', 'd': 'boolean'},\n",
       " {'po': 0, 'n': 'Group:NEST:11', 'v': 'false', 'd': 'boolean'},\n",
       " {'po': 0, 'n': 'Group:NEST:10', 'v': 'false', 'd': 'boolean'},\n",
       " {'po': 0, 'n': 'Group:NEST:13', 'v': 'false', 'd': 'boolean'},\n",
       " {'po': 0, 'n': 'Group:NEST:12', 'v': 'false', 'd': 'boolean'},\n",
       " {'po': 0, 'n': 'Group:NEST:145', 'v': 'false', 'd': 'boolean'},\n",
       " {'po': 0, 'n': 'Group:NEST:19', 'v': 'true', 'd': 'boolean'},\n",
       " {'po': 0, 'n': 'Group:NEST:18', 'v': 'false', 'd': 'boolean'},\n",
       " {'po': 0, 'n': 'Group:NEST:97', 'v': 'false', 'd': 'boolean'},\n",
       " {'po': 0, 'n': 'Group:NEST:260', 'v': 'false', 'd': 'boolean'},\n",
       " {'po': 0, 'n': 'Group:NEST:5', 'v': 'false', 'd': 'boolean'},\n",
       " {'po': 0, 'n': 'Group:NEST:4', 'v': 'false', 'd': 'boolean'},\n",
       " {'po': 0, 'n': 'Group:NEST:7', 'v': 'false', 'd': 'boolean'},\n",
       " {'po': 0, 'n': 'Group:NEST:116', 'v': 'false', 'd': 'boolean'},\n",
       " {'po': 0, 'n': 'Group:NEST:1', 'v': 'false', 'd': 'boolean'},\n",
       " {'po': 0, 'n': 'Group:NEST:3', 'v': 'true', 'd': 'boolean'},\n",
       " {'po': 0, 'n': 'Group:NEST:2', 'v': 'false', 'd': 'boolean'},\n",
       " {'po': 0, 'n': 'Group:NEST:9', 'v': 'false', 'd': 'boolean'},\n",
       " {'po': 0, 'n': 'Group:NEST:8', 'v': 'false', 'd': 'boolean'},\n",
       " {'po': 0, 'n': 'Group:NEST:28', 'v': 'false', 'd': 'boolean'},\n",
       " {'po': 0, 'n': 'Group:NEST:29', 'v': 'false', 'd': 'boolean'},\n",
       " {'po': 0, 'n': 'Group:NEST:66', 'v': 'false', 'd': 'boolean'},\n",
       " {'po': 0, 'n': 'Group:NEST:24', 'v': 'false', 'd': 'boolean'},\n",
       " {'po': 0, 'n': 'Group:NEST:43', 'v': 'false', 'd': 'boolean'},\n",
       " {'po': 0, 'n': 'Group:NEST:26', 'v': 'false', 'd': 'boolean'},\n",
       " {'po': 0, 'n': 'Group:NEST:20', 'v': 'false', 'd': 'boolean'},\n",
       " {'po': 0, 'n': 'Group:NEST:23', 'v': 'false', 'd': 'boolean'},\n",
       " {'po': 0, 'n': 'Group:NEST:33', 'v': 'false', 'd': 'boolean'},\n",
       " {'po': 0, 'n': 'Group:NEST:32', 'v': 'false', 'd': 'boolean'},\n",
       " {'po': 0, 'n': 'Group:NEST:277', 'v': 'false', 'd': 'boolean'},\n",
       " {'po': 0, 'n': 'Group:NEST:6', 'v': 'true', 'd': 'boolean'},\n",
       " {'po': 0, 'n': 'Group:NEST:325', 'v': 'false', 'd': 'boolean'},\n",
       " {'po': 0, 'n': 'Group:NEST:238', 'v': 'false', 'd': 'boolean'},\n",
       " {'po': 0, 'n': 'Group:NEST:239', 'v': 'false', 'd': 'boolean'},\n",
       " {'po': 0, 'n': 'Group:NEST:362', 'v': 'false', 'd': 'boolean'},\n",
       " {'po': 0, 'n': 'Group:NEST:217', 'v': 'false', 'd': 'boolean'},\n",
       " {'po': 0, 'n': 'Group:NEST:108', 'v': 'false', 'd': 'boolean'},\n",
       " {'po': 0, 'n': 'Group:NEST:237', 'v': 'false', 'd': 'boolean'},\n",
       " {'po': 0,\n",
       "  'n': 'membership',\n",
       "  'v': ['Group:NEST:15', 'Group:NEST:19', 'Group:NEST:3', 'Group:NEST:6'],\n",
       "  'd': 'list_of_string'},\n",
       " {'po': 0, 'n': 'layoutMember', 'v': 'Group:NEST:19'}]"
      ]
     },
     "execution_count": 10,
     "metadata": {},
     "output_type": "execute_result"
    }
   ],
   "source": [
    "root_cx.nodeAttributes[0]\n",
    "\n"
   ]
  },
  {
   "cell_type": "code",
   "execution_count": 11,
   "metadata": {
    "collapsed": true,
    "jupyter": {
     "outputs_hidden": true
    }
   },
   "outputs": [
    {
     "name": "stdout",
     "output_type": "stream",
     "text": [
      "Generating CX\n"
     ]
    }
   ],
   "source": [
    "new_cx = root_cx.to_cx()"
   ]
  },
  {
   "cell_type": "code",
   "execution_count": 12,
   "metadata": {},
   "outputs": [],
   "source": [
    "with open('newCX2.cx', 'w') as outfile:\n",
    "    json.dump(new_cx, outfile)"
   ]
  },
  {
   "cell_type": "markdown",
   "metadata": {},
   "source": [
    "# Community-based layout"
   ]
  },
  {
   "cell_type": "code",
   "execution_count": 28,
   "metadata": {},
   "outputs": [
    {
     "data": {
      "text/plain": [
       "{'@id': 29, 's': 0, 't': 3200}"
      ]
     },
     "execution_count": 28,
     "metadata": {},
     "output_type": "execute_result"
    }
   ],
   "source": [
    "# Assign cluster membership to the edges\n",
    "edges = root_cx.edges\n",
    "edgeAttr = root_cx.edgeAttributes\n",
    "\n",
    "filtered = []\n",
    "for key in edges:\n",
    "    edge = edges[key]\n",
    "    s = edge[\"s\"]\n",
    "    t = edge[\"t\"]\n",
    "    attr = edgeAttr[key]\n",
    "    for entry in attr:\n",
    "        filtered.append(attr)\n",
    "    break\n",
    "    \n",
    "edge"
   ]
  }
 ],
 "metadata": {
  "kernelspec": {
   "display_name": "Python 3",
   "language": "python",
   "name": "python3"
  },
  "language_info": {
   "codemirror_mode": {
    "name": "ipython",
    "version": 3
   },
   "file_extension": ".py",
   "mimetype": "text/x-python",
   "name": "python",
   "nbconvert_exporter": "python",
   "pygments_lexer": "ipython3",
   "version": "3.8.2"
  }
 },
 "nbformat": 4,
 "nbformat_minor": 4
}
