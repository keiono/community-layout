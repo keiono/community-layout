{
 "cells": [
  {
   "cell_type": "markdown",
   "metadata": {},
   "source": [
    "# CX to GraphML issue\n",
    "If we need to use 3rd party graph library, GraphML is the most portable file format.  "
   ]
  },
  {
   "cell_type": "code",
   "execution_count": 1,
   "metadata": {},
   "outputs": [],
   "source": [
    "import ndex2.client as nc\n",
    "import ndex2\n",
    "import networkx as nx\n",
    "\n",
    "# Root raw interaction network for Nest\n",
    "ROOT_UUID = \"bf1b0392-1adb-11ea-a741-0660b7976219\"\n",
    "\n",
    "# Load as CX\n",
    "client = nc.Ndex2(\"http://test.ndexbio.org\")\n",
    "root_cx = ndex2.create_nice_cx_from_server(server='test.ndexbio.org', uuid=ROOT_UUID)\n",
    "\n",
    "# Convert to NetworkX object for writing GraphML file\n",
    "nx_graph = root_cx.to_networkx()\n",
    "\n",
    "# Remove None value from edge attr\n",
    "for (e1, e2, d) in nx_graph.edges(data=True):\n",
    "    del d['interaction']\n",
    "\n",
    "nx.write_graphml(nx_graph, \"nest-grouped3.graphml\")"
   ]
  }
 ],
 "metadata": {
  "kernelspec": {
   "display_name": "Python 3",
   "language": "python",
   "name": "python3"
  },
  "language_info": {
   "codemirror_mode": {
    "name": "ipython",
    "version": 3
   },
   "file_extension": ".py",
   "mimetype": "text/x-python",
   "name": "python",
   "nbconvert_exporter": "python",
   "pygments_lexer": "ipython3",
   "version": "3.8.2"
  }
 },
 "nbformat": 4,
 "nbformat_minor": 4
}
