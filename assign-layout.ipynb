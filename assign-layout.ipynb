{
 "cells": [
  {
   "cell_type": "markdown",
   "metadata": {},
   "source": [
    "# Copy generated layout to original CX"
   ]
  },
  {
   "cell_type": "code",
   "execution_count": 1,
   "metadata": {},
   "outputs": [],
   "source": [
    "import ndex2.client as nc\n",
    "import io\n",
    "import json\n",
    "import ndex2\n",
    "\n",
    "ORIGINAL = \"NeST_final_original.cx\"\n",
    "# NEW_LAYOUT = \"nest-full-wo-color.cx\"\n",
    "NEW_LAYOUT = \"nest-full-wo-color-large.cx\""
   ]
  },
  {
   "cell_type": "code",
   "execution_count": 2,
   "metadata": {},
   "outputs": [],
   "source": [
    "# Load \n",
    "f = open(ORIGINAL)\n",
    "f_new = open(NEW_LAYOUT)\n",
    "\n",
    "nest_cx = json.load(f)\n",
    "layout_cx = json.load(f_new)\n",
    "\n",
    "f.close()\n",
    "f_new.close()"
   ]
  },
  {
   "cell_type": "code",
   "execution_count": 3,
   "metadata": {},
   "outputs": [
    {
     "name": "stdout",
     "output_type": "stream",
     "text": [
      "dict_keys(['numberVerification'])\n",
      "dict_keys(['metaData'])\n",
      "dict_keys(['nodes'])\n",
      "dict_keys(['edges'])\n",
      "dict_keys(['networkAttributes'])\n",
      "dict_keys(['nodeAttributes'])\n",
      "dict_keys(['edgeAttributes'])\n",
      "dict_keys(['cartesianLayout'])\n",
      "dict_keys(['status'])\n"
     ]
    }
   ],
   "source": [
    "for entry in nest_cx:\n",
    "    print(entry.keys())"
   ]
  },
  {
   "cell_type": "code",
   "execution_count": 4,
   "metadata": {},
   "outputs": [],
   "source": [
    "def get_layout(cx):\n",
    "    idx = 0\n",
    "    layout = None\n",
    "    for entry in cx:\n",
    "        keys = entry.keys()\n",
    "        if 'cartesianLayout' in keys:\n",
    "            layout = entry['cartesianLayout']\n",
    "            del cx[idx]\n",
    "            break\n",
    "        idx += 1\n",
    "    return layout\n"
   ]
  },
  {
   "cell_type": "code",
   "execution_count": 5,
   "metadata": {},
   "outputs": [],
   "source": [
    "nodes = nest_cx[2]\n",
    "node_list = nodes[\"nodes\"]\n",
    "name2id = {}\n",
    "for n in node_list:\n",
    "    name = n[\"n\"]\n",
    "    id = n[\"@id\"]\n",
    "    name2id[name] = id\n",
    "\n",
    "\n",
    "nodes_new = layout_cx[4]\n",
    "id2name = {}\n",
    "for n in nodes_new[\"nodes\"]:\n",
    "    name = n[\"n\"]\n",
    "    id = n[\"@id\"]\n",
    "    id2name[id] = name"
   ]
  },
  {
   "cell_type": "code",
   "execution_count": 6,
   "metadata": {},
   "outputs": [
    {
     "name": "stdout",
     "output_type": "stream",
     "text": [
      "5452 5452\n"
     ]
    },
    {
     "data": {
      "text/plain": [
       "{'node': 7245824, 'x': -225.3328451530684, 'y': -524.1741082207988}"
      ]
     },
     "execution_count": 6,
     "metadata": {},
     "output_type": "execute_result"
    }
   ],
   "source": [
    "original_layout = get_layout(nest_cx)\n",
    "new_layout = get_layout(layout_cx)\n",
    "print(len(original_layout), len(new_layout))\n",
    "new_layout[0]"
   ]
  },
  {
   "cell_type": "code",
   "execution_count": 7,
   "metadata": {},
   "outputs": [],
   "source": [
    "# convert ID\n",
    "converted = []\n",
    "for position in new_layout:\n",
    "    node_id = position[\"node\"]\n",
    "    if node_id in id2name:\n",
    "        name = id2name[node_id]\n",
    "        new_id = name2id[name]\n",
    "        position[\"node\"] = new_id\n",
    "        converted.append(position)\n",
    "    else:\n",
    "        print(\"ERR:\", node_id)"
   ]
  },
  {
   "cell_type": "code",
   "execution_count": 8,
   "metadata": {},
   "outputs": [],
   "source": [
    "nest_cx.insert(7, {\n",
    "    'cartesianLayout': converted\n",
    "})\n"
   ]
  },
  {
   "cell_type": "code",
   "execution_count": null,
   "metadata": {},
   "outputs": [],
   "source": []
  },
  {
   "cell_type": "code",
   "execution_count": 9,
   "metadata": {},
   "outputs": [],
   "source": [
    "with open(\"nest_final_layout4-large.cx\", \"w\") as outfile: \n",
    "    json.dump(nest_cx, outfile) "
   ]
  }
 ],
 "metadata": {
  "kernelspec": {
   "display_name": "Python 3",
   "language": "python",
   "name": "python3"
  },
  "language_info": {
   "codemirror_mode": {
    "name": "ipython",
    "version": 3
   },
   "file_extension": ".py",
   "mimetype": "text/x-python",
   "name": "python",
   "nbconvert_exporter": "python",
   "pygments_lexer": "ipython3",
   "version": "3.8.2"
  }
 },
 "nbformat": 4,
 "nbformat_minor": 4
}
