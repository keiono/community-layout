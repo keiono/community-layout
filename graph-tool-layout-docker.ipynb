{
 "cells": [
  {
   "cell_type": "code",
   "execution_count": null,
   "metadata": {},
   "outputs": [],
   "source": [
    "from graph_tool.all import *"
   ]
  },
  {
   "cell_type": "code",
   "execution_count": null,
   "metadata": {},
   "outputs": [],
   "source": [
    "nest = load_graph(\"nest-filtered.graphml\")"
   ]
  },
  {
   "cell_type": "code",
   "execution_count": null,
   "metadata": {},
   "outputs": [],
   "source": [
    "members = nest.vertex_properties[\"layoutMember\"]\n",
    "\n",
    "value_set = set()\n",
    "for member in members:\n",
    "    value_set.add(member)\n",
    "\n",
    "v2idx = {}\n",
    "idx = 1\n",
    "for entry in value_set:\n",
    "    v2idx[entry] = idx\n",
    "    idx += 1\n",
    "\n",
    "print(v2idx)\n",
    "    \n",
    "# pos1 = sfdp_layout(nest, groups=members)\n"
   ]
  },
  {
   "cell_type": "code",
   "execution_count": null,
   "metadata": {},
   "outputs": [],
   "source": [
    "groups = nest.new_vertex_property(\"int32_t\")            # Double-precision floating point\n",
    "nodes = nest.vertices()\n",
    "for node in nodes:\n",
    "    groups[node] = v2idx[members[node]]"
   ]
  },
  {
   "cell_type": "code",
   "execution_count": null,
   "metadata": {},
   "outputs": [],
   "source": [
    "members2 = nest.vertex_properties.keys()\n",
    "score = nest.edge_properties[\"Score\"]\n",
    "\n",
    "\n",
    "nest.vp.layoutIndex = groups\n",
    "\n"
   ]
  },
  {
   "cell_type": "code",
   "execution_count": null,
   "metadata": {},
   "outputs": [],
   "source": [
    "pos1 = sfdp_layout(nest, groups=groups, vweight=groups, gamma=0.01, mu=1000, eweight=score, C=0.5, multilevel=True)\n",
    "graph_draw(nest, pos=pos1, vertex_fill_color=groups, edge_color=[0.7, 0.7,0.7, 0.5], output=\"graph-draw-sfdp5.pdf\")"
   ]
  },
  {
   "cell_type": "code",
   "execution_count": null,
   "metadata": {},
   "outputs": [],
   "source": [
    "g = price_network(3000)\n",
    "pos = sfdp_layout(g)\n",
    "graph_draw(g, pos=pos, output=\"graph-draw-sfdp.pdf\")"
   ]
  }
 ],
 "metadata": {
  "kernelspec": {
   "display_name": "Python 3",
   "language": "python",
   "name": "python3"
  },
  "language_info": {
   "codemirror_mode": {
    "name": "ipython",
    "version": 3
   },
   "file_extension": ".py",
   "mimetype": "text/x-python",
   "name": "python",
   "nbconvert_exporter": "python",
   "pygments_lexer": "ipython3",
   "version": "3.8.2"
  }
 },
 "nbformat": 4,
 "nbformat_minor": 2
}
