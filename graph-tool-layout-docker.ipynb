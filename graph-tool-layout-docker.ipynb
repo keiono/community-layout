{
 "cells": [
  {
   "cell_type": "markdown",
   "metadata": {},
   "source": [
    "# Create layout based on cluster information\n",
    "* Load network in GraphML\n",
    "* Convert string group information to integers\n",
    "* Apply"
   ]
  },
  {
   "cell_type": "code",
   "execution_count": 1,
   "metadata": {},
   "outputs": [],
   "source": [
    "from graph_tool.all import *\n",
    "\n",
    "#ORIGINAL = \"nest2.graphml\"\n",
    "\n",
    "ORIGINAL = \"nest2_large.graphml\"\n",
    "FILTERED = \"nest-filtered.graphml\" # Score > 0.6"
   ]
  },
  {
   "cell_type": "code",
   "execution_count": 2,
   "metadata": {},
   "outputs": [],
   "source": [
    "nest = load_graph(ORIGINAL)"
   ]
  },
  {
   "cell_type": "code",
   "execution_count": 3,
   "metadata": {},
   "outputs": [
    {
     "name": "stdout",
     "output_type": "stream",
     "text": [
      "{'Group:NEST:19': 1, 'Group:NEST:6': 2, 'Group:NEST:35': 3, 'Group:NEST:24': 4, 'Group:NEST:145': 5, 'Group:NEST:15': 6, 'Group:NEST:116': 7, 'Group:NEST:7': 8, 'Group:NEST:12': 9, 'Group:NEST:18': 10, 'Group:NEST:13': 11, 'Group:NEST:14': 12, 'Group:NEST:1': 13, 'Group:NEST:25': 14, 'Group:NEST:5': 15, 'Group:NEST:26': 16, 'Group:NEST:97': 17, 'Group:NEST:10': 18, 'Group:NEST:9': 19, 'Group:NEST:11': 20, 'Group:NEST:16': 21, 'Group:NEST:33': 22, 'Group:NEST:2': 23, 'Group:NEST:17': 24, 'Group:NEST:23': 25, 'Group:NEST:4': 26, 'Group:NEST:108': 27, 'Group:NEST:217': 28, 'Group:NEST:3': 29, 'Group:NEST:8': 30}\n"
     ]
    }
   ],
   "source": [
    "members = nest.vertex_properties[\"layoutMember\"]\n",
    "\n",
    "value_set = set()\n",
    "for member in members:\n",
    "    value_set.add(member)\n",
    "\n",
    "v2idx = {}\n",
    "idx = 1\n",
    "for entry in value_set:\n",
    "    v2idx[entry] = idx\n",
    "    idx += 1\n",
    "\n",
    "# Group names to integers\n",
    "print(v2idx)"
   ]
  },
  {
   "cell_type": "code",
   "execution_count": 4,
   "metadata": {},
   "outputs": [],
   "source": [
    "# New attribute to show membership as an integer\n",
    "groups = nest.new_vertex_property(\"int32_t\")\n",
    "nodes = nest.vertices()\n",
    "for node in nodes:\n",
    "    groups[node] = v2idx[members[node]]\n",
    "    \n",
    "# Name it \"layoutIndex\"\n",
    "nest.vp.layoutIndex = groups\n",
    "\n",
    "# Edge scores to be used for layout\n",
    "score = nest.edge_properties[\"Score\"]"
   ]
  },
  {
   "cell_type": "code",
   "execution_count": 5,
   "metadata": {},
   "outputs": [],
   "source": [
    "# pos1 = sfdp_layout(nest, groups=groups, vweight=groups, gamma=0.01, mu=1000, eweight=score, C=0.5, multilevel=True)\n",
    "\n",
    "# Dense cluster\n",
    "#pos1 = sfdp_layout(nest, groups=groups, vweight=groups, gamma=0.01, mu=10000, eweight=score, C=0.5, multilevel=True)\n",
    "\n",
    "# Clusters are closer to each other\n",
    "#pos1 = sfdp_layout(nest, groups=groups, vweight=groups, gamma=10000, mu=10000, eweight=score, C=0.5, multilevel=True)\n",
    "\n",
    "pos1 = sfdp_layout(nest, groups=groups, vweight=groups, gamma=10000, mu=10000, eweight=score, C=0.5)\n",
    "\n",
    "\n",
    "# graph_draw(nest, pos=pos1, vertex_fill_color=groups, edge_color=[0.7, 0.7,0.7, 0.3], output=\"graph-draw-sfdp-all.pdf\")"
   ]
  },
  {
   "cell_type": "code",
   "execution_count": 6,
   "metadata": {},
   "outputs": [],
   "source": [
    "# Adjust position (For Cytoscape Desktop)\n",
    "x = nest.new_vertex_property(\"double\")\n",
    "y = nest.new_vertex_property(\"double\")\n",
    "\n",
    "# Original positions are too dense for CYtoscape.\n",
    "SCALING = 100\n",
    "\n",
    "vs = nest.vertices()\n",
    "for v in vs:\n",
    "    p = pos1[v]\n",
    "    x[v] = p[0] * SCALING\n",
    "    y[v] = p[1] * SCALING\n",
    "\n",
    "nest.vp.xpos = x\n",
    "nest.vp.ypos = y"
   ]
  },
  {
   "cell_type": "code",
   "execution_count": 7,
   "metadata": {},
   "outputs": [],
   "source": [
    "# list(nest.vertex_properties.keys())\n",
    "nest.save(\"export-scaled-full-large.graphml\", fmt=\"graphml\")"
   ]
  }
 ],
 "metadata": {
  "kernelspec": {
   "display_name": "Python 3",
   "language": "python",
   "name": "python3"
  },
  "language_info": {
   "codemirror_mode": {
    "name": "ipython",
    "version": 3
   },
   "file_extension": ".py",
   "mimetype": "text/x-python",
   "name": "python",
   "nbconvert_exporter": "python",
   "pygments_lexer": "ipython3",
   "version": "3.8.2"
  }
 },
 "nbformat": 4,
 "nbformat_minor": 2
}
