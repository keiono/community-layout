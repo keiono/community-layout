{
 "cells": [
  {
   "cell_type": "markdown",
   "metadata": {},
   "source": [
    "# Create layout based on cluster information\n",
    "* Load network in GraphML\n",
    "* Convert string group information to integers\n",
    "* Apply"
   ]
  },
  {
   "cell_type": "code",
   "execution_count": 1,
   "metadata": {},
   "outputs": [],
   "source": [
    "from graph_tool.all import *\n",
    "\n",
    "#ORIGINAL = \"nest2.graphml\"\n",
    "\n",
    "# ORIGINAL = \"nest2_large.graphml\"\n",
    "FILTERED = \"nest-filtered.graphml\" # Score > 0.6\n",
    "\n",
    "ORIGINAL = \"sig_with_groups.graphml\"\n",
    "\n",
    "FILTERED2 = \"temp-prepared.graphml\""
   ]
  },
  {
   "cell_type": "code",
   "execution_count": 2,
   "metadata": {},
   "outputs": [
    {
     "data": {
      "text/plain": [
       "<Graph object, undirected, with 1085 vertices and 14561 edges, 61 internal vertex properties, 12 internal edge properties, at 0x7fe3517afdf0>"
      ]
     },
     "execution_count": 2,
     "metadata": {},
     "output_type": "execute_result"
    }
   ],
   "source": [
    "nest = load_graph(FILTERED2)\n",
    "nest"
   ]
  },
  {
   "cell_type": "code",
   "execution_count": 3,
   "metadata": {},
   "outputs": [
    {
     "name": "stdout",
     "output_type": "stream",
     "text": [
      "{'': 1, 'Group:NEST:95': 2, 'Group:NEST:294': 3, 'Group:NEST:235': 4, 'Group:NEST:204': 5, 'Group:NEST:299': 6, 'Group:NEST:256': 7, 'Group:NEST:224': 8, 'Group:NEST:244': 9, 'Group:NEST:191': 10, 'Group:NEST:291': 11, 'Group:NEST:250': 12, 'Group:NEST:202': 13, 'Group:NEST:272': 14, 'Group:NEST:126': 15, 'Group:NEST:240': 16, 'Group:NEST:210': 17, 'Group:NEST:310': 18, 'Group:NEST:100': 19, 'Group:NEST:150': 20, 'Group:NEST:298': 21, 'Group:NEST:181': 22, 'Group:NEST:179': 23, 'Group:NEST:128': 24, 'Group:NEST:111': 25, 'Group:NEST:174': 26, 'Group:NEST:337': 27, 'Group:NEST:211': 28, 'Group:NEST:90': 29, 'Group:NEST:37': 30, 'Group:NEST:56': 31, 'Group:NEST:173': 32, 'Group:NEST:153': 33, 'Group:NEST:205': 34, 'Group:NEST:109': 35, 'Group:NEST:309': 36, 'Group:NEST:221': 37, 'Group:NEST:149': 38, 'Group:NEST:103': 39, 'Group:NEST:343': 40, 'Group:NEST:125': 41, 'Group:NEST:249': 42, 'Group:NEST:300': 43, 'Group:NEST:146': 44, 'Group:NEST:283': 45, 'Group:NEST:287': 46, 'Group:NEST:225': 47, 'Group:NEST:336': 48, 'Group:NEST:286': 49, 'Group:NEST:76': 50, 'Group:NEST:302': 51, 'Group:NEST:119': 52, 'Group:NEST:117': 53, 'Group:NEST:176': 54, 'Group:NEST:282': 55, 'Group:NEST:104': 56, 'Group:NEST:124': 57, 'Group:NEST:160': 58, 'Group:NEST:209': 59, 'Group:NEST:80': 60}\n"
     ]
    }
   ],
   "source": [
    "members = nest.vertex_properties[\"layoutMember\"]\n",
    "\n",
    "value_set = set()\n",
    "for member in members:\n",
    "    value_set.add(member)\n",
    "\n",
    "v2idx = {}\n",
    "idx = 1\n",
    "for entry in value_set:\n",
    "    v2idx[entry] = idx\n",
    "    idx += 1\n",
    "\n",
    "# Group names to integers\n",
    "print(v2idx)"
   ]
  },
  {
   "cell_type": "code",
   "execution_count": 7,
   "metadata": {},
   "outputs": [
    {
     "data": {
      "text/plain": [
       "<VertexPropertyMap object with value type 'int32_t', for Graph 0x7fe3517afdf0, at 0x7fe3517c1130>"
      ]
     },
     "execution_count": 7,
     "metadata": {},
     "output_type": "execute_result"
    }
   ],
   "source": [
    "# New attribute to show membership as an integer\n",
    "groups = nest.new_vertex_property(\"int32_t\")\n",
    "nodes = nest.vertices()\n",
    "for node in nodes:\n",
    "    groups[node] = v2idx[members[node]]\n",
    "    \n",
    "# Name it \"layoutIndex\"\n",
    "nest.vp.layoutIndex = groups\n",
    "\n",
    "# Edge scores to be used for layout\n",
    "score = nest.edge_properties[\"Score\"]\n",
    "nest.vp.layoutIndex"
   ]
  },
  {
   "cell_type": "code",
   "execution_count": 5,
   "metadata": {},
   "outputs": [
    {
     "ename": "RuntimeError",
     "evalue": "No static implementation was found for the desired routine. This is a graph_tool bug. :-( Please submit a bug report at http://graph-tool.skewed.de/issues. What follows is debug information.\n\nAction: std::_Bind<get_community_network_edges_dispatch (std::_Placeholder<1>, std::reference_wrapper<boost::adj_list<unsigned long> >, boost::adj_edge_index_property_map<unsigned long>, std::_Placeholder<2>, boost::any, std::_Placeholder<3>, boost::any)>\n\nArg 1: std::reference_wrapper<boost::undirected_adaptor<boost::adj_list<unsigned long> > >\n\nArg 2: boost::checked_vector_property_map<int, boost::typed_identity_property_map<unsigned long> >\n\nArg 3: boost::checked_vector_property_map<std::__cxx11::basic_string<char, std::char_traits<char>, std::allocator<char> >, boost::adj_edge_index_property_map<unsigned long> >\n\n",
     "output_type": "error",
     "traceback": [
      "\u001b[0;31m---------------------------------------------------------------------------\u001b[0m",
      "\u001b[0;31mRuntimeError\u001b[0m                              Traceback (most recent call last)",
      "\u001b[0;32m<ipython-input-5-2d8fdb0264b2>\u001b[0m in \u001b[0;36m<module>\u001b[0;34m\u001b[0m\n\u001b[1;32m     11\u001b[0m \u001b[0;34m\u001b[0m\u001b[0m\n\u001b[1;32m     12\u001b[0m \u001b[0;31m# For sig\u001b[0m\u001b[0;34m\u001b[0m\u001b[0;34m\u001b[0m\u001b[0;34m\u001b[0m\u001b[0m\n\u001b[0;32m---> 13\u001b[0;31m \u001b[0mpos1\u001b[0m \u001b[0;34m=\u001b[0m \u001b[0msfdp_layout\u001b[0m\u001b[0;34m(\u001b[0m\u001b[0mnest\u001b[0m\u001b[0;34m,\u001b[0m \u001b[0mgroups\u001b[0m\u001b[0;34m=\u001b[0m\u001b[0mgroups\u001b[0m\u001b[0;34m,\u001b[0m \u001b[0mvweight\u001b[0m\u001b[0;34m=\u001b[0m\u001b[0mgroups\u001b[0m\u001b[0;34m,\u001b[0m \u001b[0mgamma\u001b[0m\u001b[0;34m=\u001b[0m\u001b[0;36m10000\u001b[0m\u001b[0;34m,\u001b[0m \u001b[0mmu\u001b[0m\u001b[0;34m=\u001b[0m\u001b[0;36m10000\u001b[0m\u001b[0;34m,\u001b[0m \u001b[0meweight\u001b[0m\u001b[0;34m=\u001b[0m\u001b[0mscore\u001b[0m\u001b[0;34m,\u001b[0m \u001b[0mC\u001b[0m\u001b[0;34m=\u001b[0m\u001b[0;36m0.5\u001b[0m\u001b[0;34m)\u001b[0m\u001b[0;34m\u001b[0m\u001b[0;34m\u001b[0m\u001b[0m\n\u001b[0m\u001b[1;32m     14\u001b[0m \u001b[0;34m\u001b[0m\u001b[0m\n\u001b[1;32m     15\u001b[0m \u001b[0;34m\u001b[0m\u001b[0m\n",
      "\u001b[0;32m/usr/lib/python3.8/site-packages/graph_tool/draw/__init__.py\u001b[0m in \u001b[0;36msfdp_layout\u001b[0;34m(g, vweight, eweight, pin, groups, C, K, p, theta, max_level, gamma, mu, mu_p, init_step, cooling_step, adaptive_cooling, epsilon, max_iter, pos, multilevel, coarse_method, mivs_thres, ec_thres, coarse_stack, weighted_coarse, verbose)\u001b[0m\n\u001b[1;32m    725\u001b[0m                                      \u001b[0meweight\u001b[0m\u001b[0;34m=\u001b[0m\u001b[0meweight\u001b[0m\u001b[0;34m,\u001b[0m \u001b[0mvweight\u001b[0m\u001b[0;34m=\u001b[0m\u001b[0mvweight\u001b[0m\u001b[0;34m,\u001b[0m\u001b[0;34m\u001b[0m\u001b[0;34m\u001b[0m\u001b[0m\n\u001b[1;32m    726\u001b[0m                                      verbose=verbose)\n\u001b[0;32m--> 727\u001b[0;31m         \u001b[0;32mfor\u001b[0m \u001b[0mcount\u001b[0m\u001b[0;34m,\u001b[0m \u001b[0;34m(\u001b[0m\u001b[0mu\u001b[0m\u001b[0;34m,\u001b[0m \u001b[0mpos\u001b[0m\u001b[0;34m,\u001b[0m \u001b[0mK\u001b[0m\u001b[0;34m,\u001b[0m \u001b[0mvcount\u001b[0m\u001b[0;34m,\u001b[0m \u001b[0mecount\u001b[0m\u001b[0;34m)\u001b[0m \u001b[0;32min\u001b[0m \u001b[0menumerate\u001b[0m\u001b[0;34m(\u001b[0m\u001b[0mcgs\u001b[0m\u001b[0;34m)\u001b[0m\u001b[0;34m:\u001b[0m\u001b[0;34m\u001b[0m\u001b[0;34m\u001b[0m\u001b[0m\n\u001b[0m\u001b[1;32m    728\u001b[0m             \u001b[0;32mif\u001b[0m \u001b[0mverbose\u001b[0m\u001b[0;34m:\u001b[0m\u001b[0;34m\u001b[0m\u001b[0;34m\u001b[0m\u001b[0m\n\u001b[1;32m    729\u001b[0m                 \u001b[0mprint\u001b[0m\u001b[0;34m(\u001b[0m\u001b[0;34m\"Positioning level:\"\u001b[0m\u001b[0;34m,\u001b[0m \u001b[0mcount\u001b[0m\u001b[0;34m,\u001b[0m \u001b[0mu\u001b[0m\u001b[0;34m.\u001b[0m\u001b[0mnum_vertices\u001b[0m\u001b[0;34m(\u001b[0m\u001b[0;34m)\u001b[0m\u001b[0;34m,\u001b[0m \u001b[0mend\u001b[0m\u001b[0;34m=\u001b[0m\u001b[0;34m' '\u001b[0m\u001b[0;34m)\u001b[0m\u001b[0;34m\u001b[0m\u001b[0;34m\u001b[0m\u001b[0m\n",
      "\u001b[0;32m/usr/lib/python3.8/site-packages/graph_tool/draw/__init__.py\u001b[0m in \u001b[0;36mcoarse_graphs\u001b[0;34m(g, method, mivs_thres, ec_thres, weighted_coarse, eweight, vweight, groups, verbose)\u001b[0m\n\u001b[1;32m    471\u001b[0m     \u001b[0mmivs\u001b[0m \u001b[0;34m=\u001b[0m \u001b[0;32mnot\u001b[0m \u001b[0;34m(\u001b[0m\u001b[0mmethod\u001b[0m \u001b[0;32min\u001b[0m \u001b[0;34m[\u001b[0m\u001b[0;34m\"hybrid\"\u001b[0m\u001b[0;34m,\u001b[0m \u001b[0;34m\"ec\"\u001b[0m\u001b[0;34m]\u001b[0m\u001b[0;34m)\u001b[0m\u001b[0;34m\u001b[0m\u001b[0;34m\u001b[0m\u001b[0m\n\u001b[1;32m    472\u001b[0m     \u001b[0;32mwhile\u001b[0m \u001b[0;32mTrue\u001b[0m\u001b[0;34m:\u001b[0m\u001b[0;34m\u001b[0m\u001b[0;34m\u001b[0m\u001b[0m\n\u001b[0;32m--> 473\u001b[0;31m         \u001b[0mu\u001b[0m \u001b[0;34m=\u001b[0m \u001b[0m_coarse_graph\u001b[0m\u001b[0;34m(\u001b[0m\u001b[0mcg\u001b[0m\u001b[0;34m[\u001b[0m\u001b[0;34m-\u001b[0m\u001b[0;36m1\u001b[0m\u001b[0;34m]\u001b[0m\u001b[0;34m[\u001b[0m\u001b[0;36m0\u001b[0m\u001b[0;34m]\u001b[0m\u001b[0;34m,\u001b[0m \u001b[0mcg\u001b[0m\u001b[0;34m[\u001b[0m\u001b[0;34m-\u001b[0m\u001b[0;36m1\u001b[0m\u001b[0;34m]\u001b[0m\u001b[0;34m[\u001b[0m\u001b[0;36m2\u001b[0m\u001b[0;34m]\u001b[0m\u001b[0;34m,\u001b[0m \u001b[0mcg\u001b[0m\u001b[0;34m[\u001b[0m\u001b[0;34m-\u001b[0m\u001b[0;36m1\u001b[0m\u001b[0;34m]\u001b[0m\u001b[0;34m[\u001b[0m\u001b[0;36m3\u001b[0m\u001b[0;34m]\u001b[0m\u001b[0;34m,\u001b[0m \u001b[0mmivs\u001b[0m\u001b[0;34m,\u001b[0m \u001b[0mgroups\u001b[0m\u001b[0;34m)\u001b[0m\u001b[0;34m\u001b[0m\u001b[0;34m\u001b[0m\u001b[0m\n\u001b[0m\u001b[1;32m    474\u001b[0m         \u001b[0mgroups\u001b[0m \u001b[0;34m=\u001b[0m \u001b[0;32mNone\u001b[0m\u001b[0;34m\u001b[0m\u001b[0;34m\u001b[0m\u001b[0m\n\u001b[1;32m    475\u001b[0m         \u001b[0mthres\u001b[0m \u001b[0;34m=\u001b[0m \u001b[0mmivs_thres\u001b[0m \u001b[0;32mif\u001b[0m \u001b[0mmivs\u001b[0m \u001b[0;32melse\u001b[0m \u001b[0mec_thres\u001b[0m\u001b[0;34m\u001b[0m\u001b[0;34m\u001b[0m\u001b[0m\n",
      "\u001b[0;32m/usr/lib/python3.8/site-packages/graph_tool/draw/__init__.py\u001b[0m in \u001b[0;36m_coarse_graph\u001b[0;34m(g, vweight, eweight, mivs, groups)\u001b[0m\n\u001b[1;32m    424\u001b[0m         \u001b[0mmivs\u001b[0m \u001b[0;34m=\u001b[0m \u001b[0;32mNone\u001b[0m\u001b[0;34m\u001b[0m\u001b[0;34m\u001b[0m\u001b[0m\n\u001b[1;32m    425\u001b[0m         \u001b[0mc\u001b[0m \u001b[0;34m=\u001b[0m \u001b[0mgroups\u001b[0m\u001b[0;34m\u001b[0m\u001b[0;34m\u001b[0m\u001b[0m\n\u001b[0;32m--> 426\u001b[0;31m     \u001b[0mcg\u001b[0m\u001b[0;34m,\u001b[0m \u001b[0mcc\u001b[0m\u001b[0;34m,\u001b[0m \u001b[0mvcount\u001b[0m\u001b[0;34m,\u001b[0m \u001b[0mecount\u001b[0m \u001b[0;34m=\u001b[0m \u001b[0mcondensation_graph\u001b[0m\u001b[0;34m(\u001b[0m\u001b[0mg\u001b[0m\u001b[0;34m,\u001b[0m \u001b[0mc\u001b[0m\u001b[0;34m,\u001b[0m \u001b[0mvweight\u001b[0m\u001b[0;34m,\u001b[0m \u001b[0meweight\u001b[0m\u001b[0;34m)\u001b[0m\u001b[0;34m[\u001b[0m\u001b[0;34m:\u001b[0m\u001b[0;36m4\u001b[0m\u001b[0;34m]\u001b[0m\u001b[0;34m\u001b[0m\u001b[0;34m\u001b[0m\u001b[0m\n\u001b[0m\u001b[1;32m    427\u001b[0m     \u001b[0;32mreturn\u001b[0m \u001b[0mcg\u001b[0m\u001b[0;34m,\u001b[0m \u001b[0mcc\u001b[0m\u001b[0;34m,\u001b[0m \u001b[0mvcount\u001b[0m\u001b[0;34m,\u001b[0m \u001b[0mecount\u001b[0m\u001b[0;34m,\u001b[0m \u001b[0mc\u001b[0m\u001b[0;34m,\u001b[0m \u001b[0mmivs\u001b[0m\u001b[0;34m\u001b[0m\u001b[0;34m\u001b[0m\u001b[0m\n\u001b[1;32m    428\u001b[0m \u001b[0;34m\u001b[0m\u001b[0m\n",
      "\u001b[0;32m/usr/lib/python3.8/site-packages/graph_tool/generation/__init__.py\u001b[0m in \u001b[0;36mcondensation_graph\u001b[0;34m(g, prop, vweight, eweight, avprops, aeprops, self_loops, parallel_edges)\u001b[0m\n\u001b[1;32m   2336\u001b[0m         \u001b[0mr_aep\u001b[0m\u001b[0;34m.\u001b[0m\u001b[0mappend\u001b[0m\u001b[0;34m(\u001b[0m\u001b[0mcp\u001b[0m\u001b[0;34m)\u001b[0m\u001b[0;34m\u001b[0m\u001b[0;34m\u001b[0m\u001b[0m\n\u001b[1;32m   2337\u001b[0m \u001b[0;34m\u001b[0m\u001b[0m\n\u001b[0;32m-> 2338\u001b[0;31m     libgraph_tool_generation.community_network(g._Graph__graph,\n\u001b[0m\u001b[1;32m   2339\u001b[0m                                                \u001b[0mgp\u001b[0m\u001b[0;34m.\u001b[0m\u001b[0m_Graph__graph\u001b[0m\u001b[0;34m,\u001b[0m\u001b[0;34m\u001b[0m\u001b[0;34m\u001b[0m\u001b[0m\n\u001b[1;32m   2340\u001b[0m                                                \u001b[0m_prop\u001b[0m\u001b[0;34m(\u001b[0m\u001b[0;34m\"v\"\u001b[0m\u001b[0;34m,\u001b[0m \u001b[0mg\u001b[0m\u001b[0;34m,\u001b[0m \u001b[0mprop\u001b[0m\u001b[0;34m)\u001b[0m\u001b[0;34m,\u001b[0m\u001b[0;34m\u001b[0m\u001b[0;34m\u001b[0m\u001b[0m\n",
      "\u001b[0;31mRuntimeError\u001b[0m: No static implementation was found for the desired routine. This is a graph_tool bug. :-( Please submit a bug report at http://graph-tool.skewed.de/issues. What follows is debug information.\n\nAction: std::_Bind<get_community_network_edges_dispatch (std::_Placeholder<1>, std::reference_wrapper<boost::adj_list<unsigned long> >, boost::adj_edge_index_property_map<unsigned long>, std::_Placeholder<2>, boost::any, std::_Placeholder<3>, boost::any)>\n\nArg 1: std::reference_wrapper<boost::undirected_adaptor<boost::adj_list<unsigned long> > >\n\nArg 2: boost::checked_vector_property_map<int, boost::typed_identity_property_map<unsigned long> >\n\nArg 3: boost::checked_vector_property_map<std::__cxx11::basic_string<char, std::char_traits<char>, std::allocator<char> >, boost::adj_edge_index_property_map<unsigned long> >\n\n"
     ]
    }
   ],
   "source": [
    "# pos1 = sfdp_layout(nest, groups=groups, vweight=groups, gamma=0.01, mu=1000, eweight=score, C=0.5, multilevel=True)\n",
    "\n",
    "# Dense cluster\n",
    "#pos1 = sfdp_layout(nest, groups=groups, vweight=groups, gamma=0.01, mu=10000, eweight=score, C=0.5, multilevel=True)\n",
    "\n",
    "# Clusters are closer to each other\n",
    "#pos1 = sfdp_layout(nest, groups=groups, vweight=groups, gamma=10000, mu=10000, eweight=score, C=0.5, multilevel=True)\n",
    "\n",
    "# Final for root\n",
    "#pos1 = sfdp_layout(nest, groups=groups, vweight=groups, gamma=10000, mu=10000, eweight=score, C=0.5)\n",
    "\n",
    "# For sig\n",
    "pos1 = sfdp_layout(nest, groups=groups, vweight=groups, gamma=10000, mu=10000, eweight=score, C=0.5)\n",
    "\n",
    "\n",
    "# graph_draw(nest, pos=pos1, vertex_fill_color=groups, edge_color=[0.7, 0.7,0.7, 0.3], output=\"graph-draw-sfdp-all.pdf\")"
   ]
  },
  {
   "cell_type": "code",
   "execution_count": null,
   "metadata": {},
   "outputs": [],
   "source": [
    "# Adjust position (For Cytoscape Desktop)\n",
    "x = nest.new_vertex_property(\"double\")\n",
    "y = nest.new_vertex_property(\"double\")\n",
    "\n",
    "# Original positions are too dense for CYtoscape.\n",
    "SCALING = 100\n",
    "\n",
    "vs = nest.vertices()\n",
    "for v in vs:\n",
    "    p = pos1[v]\n",
    "    x[v] = p[0] * SCALING\n",
    "    y[v] = p[1] * SCALING\n",
    "\n",
    "nest.vp.xpos = x\n",
    "nest.vp.ypos = y"
   ]
  },
  {
   "cell_type": "code",
   "execution_count": null,
   "metadata": {},
   "outputs": [],
   "source": [
    "# list(nest.vertex_properties.keys())\n",
    "nest.save(\"export-scaled-full-sig3.graphml\", fmt=\"graphml\")"
   ]
  }
 ],
 "metadata": {
  "kernelspec": {
   "display_name": "Python 3",
   "language": "python",
   "name": "python3"
  },
  "language_info": {
   "codemirror_mode": {
    "name": "ipython",
    "version": 3
   },
   "file_extension": ".py",
   "mimetype": "text/x-python",
   "name": "python",
   "nbconvert_exporter": "python",
   "pygments_lexer": "ipython3",
   "version": "3.8.2"
  }
 },
 "nbformat": 4,
 "nbformat_minor": 4
}
