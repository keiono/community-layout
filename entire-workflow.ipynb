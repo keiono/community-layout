{
 "cells": [
  {
   "cell_type": "markdown",
   "metadata": {},
   "source": [
    "# Cluster-Based layout\n",
    "By Keiichiro Ono\n",
    "June 2, 2020\n",
    "\n",
    "## What's this?\n",
    "In many situations, we want to layout nodes in same subgroup, or cluster, as close as possible. This script creates such layout from HiView compatible interaction data.\n",
    "\n",
    "## Create group assignments"
   ]
  },
  {
   "cell_type": "code",
   "execution_count": 1,
   "metadata": {},
   "outputs": [],
   "source": [
    "import ndex2.client as nc\n",
    "import ndex2\n",
    "import networkx as nx\n",
    "\n",
    "# Currently, this is designed for \n",
    "# Root raw interaction network for Nest\n",
    "ROOT_UUID = \"bf1b0392-1adb-11ea-a741-0660b7976219\"\n",
    "\n",
    "# Largest child of root\n",
    "SIGNALING = \"d1989896-1adb-11ea-a741-0660b7976219\""
   ]
  },
  {
   "cell_type": "code",
   "execution_count": 2,
   "metadata": {},
   "outputs": [
    {
     "name": "stdout",
     "output_type": "stream",
     "text": [
      "Name: NeST_final_test_20191209-152700 supporting network for NEST:2\n",
      "Nodes: 1085\n",
      "Edges: 14561\n",
      "Node Attributes: 64015\n",
      "Edge Attributes: 14561\n",
      "\n"
     ]
    }
   ],
   "source": [
    "client = nc.Ndex2(\"http://test.ndexbio.org\")\n",
    "\n",
    "root_cx = ndex2.create_nice_cx_from_server(server='test.ndexbio.org', uuid=SIGNALING)\n",
    "root_cx.print_summary()\n",
    "\n",
    "nodes = root_cx.nodes\n",
    "nodeAttr = root_cx.nodeAttributes"
   ]
  },
  {
   "cell_type": "code",
   "execution_count": 39,
   "metadata": {},
   "outputs": [
    {
     "data": {
      "text/plain": [
       "{'@id': 0, 'n': 'HIST1H4A'}"
      ]
     },
     "execution_count": 39,
     "metadata": {},
     "output_type": "execute_result"
    }
   ],
   "source": [
    "root_cx.nodes[0]"
   ]
  },
  {
   "cell_type": "markdown",
   "metadata": {},
   "source": [
    "## Create set of genes for each subsystem with overraps\n",
    "The dict has name of subsystem as key, and values are set of genes assigned to the system"
   ]
  },
  {
   "cell_type": "code",
   "execution_count": 3,
   "metadata": {},
   "outputs": [],
   "source": [
    "# This contains membership for each subsystem\n",
    "subsystems = {}\n",
    "\n",
    "for key in nodeAttr:\n",
    "    # All attributes for a gene\n",
    "    attr = nodeAttr[key]    \n",
    "    for entry in attr:\n",
    "        gene_id = entry[\"po\"]\n",
    "        dataType = entry[\"d\"]\n",
    "        if dataType == 'boolean':\n",
    "            name = entry[\"n\"]\n",
    "            value = entry[\"v\"]\n",
    "            \n",
    "            system_members = set()\n",
    "            if name in subsystems.keys():\n",
    "                system_members = subsystems[name]\n",
    "            \n",
    "            if value == 'true':\n",
    "                system_members.add(gene_id)\n",
    "\n",
    "            subsystems[name] = system_members"
   ]
  },
  {
   "cell_type": "code",
   "execution_count": 4,
   "metadata": {},
   "outputs": [
    {
     "name": "stdout",
     "output_type": "stream",
     "text": [
      "Group:NEST:298 4\n",
      "Group:NEST:272 4\n",
      "Group:NEST:287 4\n",
      "Group:NEST:286 4\n",
      "Group:NEST:283 4\n",
      "Group:NEST:337 4\n",
      "Group:NEST:336 4\n",
      "Group:NEST:310 4\n",
      "Group:NEST:300 4\n",
      "Group:NEST:294 4\n",
      "Group:NEST:302 4\n",
      "Group:NEST:291 4\n",
      "Group:NEST:282 4\n",
      "Group:NEST:309 4\n",
      "Group:NEST:299 4\n",
      "Group:NEST:343 4\n",
      "Group:NEST:235 5\n",
      "Group:NEST:240 5\n",
      "Group:NEST:225 5\n",
      "Group:NEST:224 5\n",
      "Group:NEST:244 5\n",
      "Group:NEST:221 5\n",
      "Group:NEST:256 5\n",
      "Group:NEST:250 5\n",
      "Group:NEST:249 5\n",
      "Group:NEST:209 6\n",
      "Group:NEST:205 6\n",
      "Group:NEST:211 6\n",
      "Group:NEST:204 6\n",
      "Group:NEST:202 6\n",
      "Group:NEST:210 6\n",
      "Group:NEST:181 7\n",
      "Group:NEST:191 7\n",
      "Group:NEST:179 7\n",
      "Group:NEST:173 8\n",
      "Group:NEST:176 8\n",
      "Group:NEST:174 8\n",
      "Group:NEST:160 9\n",
      "Group:NEST:150 10\n",
      "Group:NEST:153 10\n",
      "Group:NEST:149 10\n",
      "Group:NEST:146 10\n",
      "Group:NEST:125 12\n",
      "Group:NEST:126 12\n",
      "Group:NEST:128 12\n",
      "Group:NEST:119 13\n",
      "Group:NEST:117 13\n",
      "Group:NEST:124 13\n",
      "Group:NEST:111 14\n",
      "Group:NEST:109 15\n",
      "Group:NEST:104 16\n",
      "Group:NEST:103 16\n",
      "Group:NEST:100 18\n",
      "Group:NEST:95 19\n",
      "Group:NEST:90 21\n",
      "Group:NEST:80 28\n",
      "Group:NEST:76 30\n",
      "Group:NEST:56 47\n",
      "Group:NEST:37 127\n"
     ]
    }
   ],
   "source": [
    "# Check the result: Smallest subsystem to the largest\n",
    "sorted_systems = {k: v for k, v in sorted(subsystems.items(), key=lambda item: len(item[1]))}\n",
    "for key in sorted_systems.keys():\n",
    "    print(key, len(sorted_systems[key]))"
   ]
  },
  {
   "cell_type": "markdown",
   "metadata": {},
   "source": [
    "## Count number of genes in each system"
   ]
  },
  {
   "cell_type": "code",
   "execution_count": 5,
   "metadata": {},
   "outputs": [
    {
     "name": "stdout",
     "output_type": "stream",
     "text": [
      "1085 59\n"
     ]
    }
   ],
   "source": [
    "clusterMap = {}\n",
    "gene_counts = {}\n",
    "\n",
    "for key in nodeAttr:\n",
    "    attr = nodeAttr[key]    \n",
    "    for entry in attr:\n",
    "        pointer = entry[\"po\"]\n",
    "        if pointer in clusterMap.keys():\n",
    "            members = clusterMap[pointer]\n",
    "        else:\n",
    "            members = []\n",
    "\n",
    "        dataType = entry[\"d\"]\n",
    "        if dataType == 'boolean':\n",
    "            name = entry[\"n\"]\n",
    "            value = entry[\"v\"]\n",
    "            \n",
    "            count = 0\n",
    "            if name in gene_counts.keys():\n",
    "                count = gene_counts[name]\n",
    "            \n",
    "            if value == 'true':\n",
    "                members.append(name)\n",
    "                count += 1\n",
    "            \n",
    "            gene_counts[name] = count\n",
    "\n",
    "        clusterMap[pointer] = members\n",
    "    \n",
    "print(len(clusterMap), len(gene_counts))"
   ]
  },
  {
   "cell_type": "code",
   "execution_count": 6,
   "metadata": {},
   "outputs": [],
   "source": [
    "# Sort small to large\n",
    "ranking = {k: v for k, v in sorted(gene_counts.items(), key=lambda item: item[1])}"
   ]
  },
  {
   "cell_type": "code",
   "execution_count": 7,
   "metadata": {},
   "outputs": [
    {
     "name": "stdout",
     "output_type": "stream",
     "text": [
      "{'Group:NEST:298': 4, 'Group:NEST:272': 4, 'Group:NEST:287': 4, 'Group:NEST:286': 4, 'Group:NEST:283': 4, 'Group:NEST:337': 4, 'Group:NEST:336': 4, 'Group:NEST:310': 4, 'Group:NEST:300': 4, 'Group:NEST:294': 4, 'Group:NEST:302': 4, 'Group:NEST:291': 4, 'Group:NEST:282': 4, 'Group:NEST:309': 4, 'Group:NEST:299': 4, 'Group:NEST:343': 4, 'Group:NEST:235': 5, 'Group:NEST:240': 5, 'Group:NEST:225': 5, 'Group:NEST:224': 5, 'Group:NEST:244': 5, 'Group:NEST:221': 5, 'Group:NEST:256': 5, 'Group:NEST:250': 5, 'Group:NEST:249': 5, 'Group:NEST:209': 6, 'Group:NEST:205': 6, 'Group:NEST:211': 6, 'Group:NEST:204': 6, 'Group:NEST:202': 6, 'Group:NEST:210': 6, 'Group:NEST:181': 7, 'Group:NEST:191': 7, 'Group:NEST:179': 7, 'Group:NEST:173': 8, 'Group:NEST:176': 8, 'Group:NEST:174': 8, 'Group:NEST:160': 9, 'Group:NEST:150': 10, 'Group:NEST:153': 10, 'Group:NEST:149': 10, 'Group:NEST:146': 10, 'Group:NEST:125': 12, 'Group:NEST:126': 12, 'Group:NEST:128': 12, 'Group:NEST:119': 13, 'Group:NEST:117': 13, 'Group:NEST:124': 13, 'Group:NEST:111': 14, 'Group:NEST:109': 15, 'Group:NEST:104': 16, 'Group:NEST:103': 16, 'Group:NEST:100': 18, 'Group:NEST:95': 19, 'Group:NEST:90': 21, 'Group:NEST:80': 28, 'Group:NEST:76': 30, 'Group:NEST:56': 47, 'Group:NEST:37': 127}\n"
     ]
    }
   ],
   "source": [
    "print(ranking)"
   ]
  },
  {
   "cell_type": "code",
   "execution_count": 8,
   "metadata": {},
   "outputs": [
    {
     "data": {
      "text/plain": [
       "['Group:NEST:37',\n",
       " 'Group:NEST:56',\n",
       " 'Group:NEST:76',\n",
       " 'Group:NEST:80',\n",
       " 'Group:NEST:90',\n",
       " 'Group:NEST:95',\n",
       " 'Group:NEST:100',\n",
       " 'Group:NEST:103',\n",
       " 'Group:NEST:104',\n",
       " 'Group:NEST:109',\n",
       " 'Group:NEST:111',\n",
       " 'Group:NEST:124',\n",
       " 'Group:NEST:117',\n",
       " 'Group:NEST:119',\n",
       " 'Group:NEST:128',\n",
       " 'Group:NEST:126',\n",
       " 'Group:NEST:125',\n",
       " 'Group:NEST:146',\n",
       " 'Group:NEST:149',\n",
       " 'Group:NEST:153',\n",
       " 'Group:NEST:150',\n",
       " 'Group:NEST:160',\n",
       " 'Group:NEST:174',\n",
       " 'Group:NEST:176',\n",
       " 'Group:NEST:173',\n",
       " 'Group:NEST:179',\n",
       " 'Group:NEST:191',\n",
       " 'Group:NEST:181',\n",
       " 'Group:NEST:210',\n",
       " 'Group:NEST:202',\n",
       " 'Group:NEST:204',\n",
       " 'Group:NEST:211',\n",
       " 'Group:NEST:205',\n",
       " 'Group:NEST:209',\n",
       " 'Group:NEST:249',\n",
       " 'Group:NEST:250',\n",
       " 'Group:NEST:256',\n",
       " 'Group:NEST:221',\n",
       " 'Group:NEST:244',\n",
       " 'Group:NEST:224',\n",
       " 'Group:NEST:225',\n",
       " 'Group:NEST:240',\n",
       " 'Group:NEST:235',\n",
       " 'Group:NEST:343',\n",
       " 'Group:NEST:299',\n",
       " 'Group:NEST:309',\n",
       " 'Group:NEST:282',\n",
       " 'Group:NEST:291',\n",
       " 'Group:NEST:302',\n",
       " 'Group:NEST:294',\n",
       " 'Group:NEST:300',\n",
       " 'Group:NEST:310',\n",
       " 'Group:NEST:336',\n",
       " 'Group:NEST:337',\n",
       " 'Group:NEST:283',\n",
       " 'Group:NEST:286',\n",
       " 'Group:NEST:287',\n",
       " 'Group:NEST:272',\n",
       " 'Group:NEST:298']"
      ]
     },
     "execution_count": 8,
     "metadata": {},
     "output_type": "execute_result"
    }
   ],
   "source": [
    "# Revered keys\n",
    "rank_list = list(ranking.keys())\n",
    "rank_list.reverse()\n",
    "\n",
    "# Largest to smallest\n",
    "rank_list"
   ]
  },
  {
   "cell_type": "code",
   "execution_count": 9,
   "metadata": {},
   "outputs": [],
   "source": [
    "# For simple large to small assignment\n",
    "def findTopGene(genes, ranking):\n",
    "    top = None\n",
    "    final_member = None\n",
    "    for gene in genes:\n",
    "        member_count = ranking[gene]\n",
    "        if top is None:\n",
    "            top = member_count\n",
    "            final_member = gene\n",
    "        elif top > member_count:\n",
    "            top = member_count\n",
    "            final_member = gene\n",
    "    return final_member\n",
    "\n",
    "assignedMember = {}\n",
    "for key in clusterMap.keys():\n",
    "    genes = clusterMap[key]\n",
    "    top = findTopGene(genes, gene_counts)\n",
    "    if top is not None:\n",
    "        assignedMember[key] = top"
   ]
  },
  {
   "cell_type": "code",
   "execution_count": 10,
   "metadata": {},
   "outputs": [],
   "source": [
    "# Assign subsystem name for each gene\n",
    "for key in assignedMember.keys():\n",
    "#     root_cx.add_node_attribute(property_of=key, name='membership', values=clusterMap[key])\n",
    "    root_cx.add_node_attribute(property_of=key, name='layoutMember', values=assignedMember[key])"
   ]
  },
  {
   "cell_type": "markdown",
   "metadata": {},
   "source": [
    "## Export to GraphML\n",
    "For loading into graph-tool"
   ]
  },
  {
   "cell_type": "code",
   "execution_count": 11,
   "metadata": {},
   "outputs": [],
   "source": [
    "nx_graph = root_cx.to_networkx()\n",
    "# Remove None value from edge attr\n",
    "for (e1, e2, d) in nx_graph.edges(data=True):\n",
    "    del d['interaction']\n",
    "    \n",
    "GRAPHML_IN = 'temp-prepared.graphml'\n",
    "nx.write_graphml(nx_graph, GRAPHML_IN)"
   ]
  },
  {
   "cell_type": "markdown",
   "metadata": {},
   "source": [
    "# Actual layout using graph-tool"
   ]
  },
  {
   "cell_type": "code",
   "execution_count": 12,
   "metadata": {},
   "outputs": [
    {
     "data": {
      "text/plain": [
       "<Graph object, undirected, with 1085 vertices and 14561 edges, 61 internal vertex properties, 12 internal edge properties, at 0x7f633cffb940>"
      ]
     },
     "execution_count": 12,
     "metadata": {},
     "output_type": "execute_result"
    }
   ],
   "source": [
    "from graph_tool.all import *\n",
    "nest = load_graph(GRAPHML_IN)\n",
    "nest"
   ]
  },
  {
   "cell_type": "code",
   "execution_count": 13,
   "metadata": {},
   "outputs": [
    {
     "name": "stdout",
     "output_type": "stream",
     "text": [
      "{'': 1, 'Group:NEST:225': 2, 'Group:NEST:204': 3, 'Group:NEST:128': 4, 'Group:NEST:95': 5, 'Group:NEST:111': 6, 'Group:NEST:294': 7, 'Group:NEST:244': 8, 'Group:NEST:146': 9, 'Group:NEST:119': 10, 'Group:NEST:283': 11, 'Group:NEST:209': 12, 'Group:NEST:256': 13, 'Group:NEST:56': 14, 'Group:NEST:205': 15, 'Group:NEST:124': 16, 'Group:NEST:337': 17, 'Group:NEST:160': 18, 'Group:NEST:202': 19, 'Group:NEST:126': 20, 'Group:NEST:149': 21, 'Group:NEST:179': 22, 'Group:NEST:191': 23, 'Group:NEST:240': 24, 'Group:NEST:181': 25, 'Group:NEST:150': 26, 'Group:NEST:310': 27, 'Group:NEST:117': 28, 'Group:NEST:272': 29, 'Group:NEST:291': 30, 'Group:NEST:302': 31, 'Group:NEST:287': 32, 'Group:NEST:153': 33, 'Group:NEST:80': 34, 'Group:NEST:224': 35, 'Group:NEST:176': 36, 'Group:NEST:336': 37, 'Group:NEST:173': 38, 'Group:NEST:103': 39, 'Group:NEST:300': 40, 'Group:NEST:90': 41, 'Group:NEST:343': 42, 'Group:NEST:309': 43, 'Group:NEST:211': 44, 'Group:NEST:125': 45, 'Group:NEST:109': 46, 'Group:NEST:235': 47, 'Group:NEST:174': 48, 'Group:NEST:76': 49, 'Group:NEST:299': 50, 'Group:NEST:250': 51, 'Group:NEST:298': 52, 'Group:NEST:282': 53, 'Group:NEST:221': 54, 'Group:NEST:100': 55, 'Group:NEST:249': 56, 'Group:NEST:286': 57, 'Group:NEST:37': 58, 'Group:NEST:210': 59, 'Group:NEST:104': 60}\n"
     ]
    }
   ],
   "source": [
    "members = nest.vertex_properties[\"layoutMember\"]\n",
    "\n",
    "value_set = set()\n",
    "for member in members:\n",
    "    value_set.add(member)\n",
    "\n",
    "v2idx = {}\n",
    "idx = 1\n",
    "for entry in value_set:\n",
    "    v2idx[entry] = idx\n",
    "    idx += 1\n",
    "\n",
    "# Group names to integers\n",
    "print(v2idx)"
   ]
  },
  {
   "cell_type": "code",
   "execution_count": 24,
   "metadata": {},
   "outputs": [],
   "source": [
    "# New attribute to show membership as an integer\n",
    "groups = nest.new_vertex_property(\"int32_t\")\n",
    "nodes = nest.vertices()\n",
    "for node in nodes:\n",
    "    groups[node] = v2idx[members[node]]\n",
    "    \n",
    "# Name it \"layoutIndex\"\n",
    "nest.vp.layoutIndex = groups\n",
    "\n",
    "# Edge scores to be used for layout\n",
    "score = nest.edge_properties[\"Score\"]\n",
    "new_score = nest.new_edge_property(\"double\")\n",
    "edges = nest.edges()\n",
    "for e in edges:\n",
    "    score_str = score[e]\n",
    "    score_dbl = float(score_str)\n",
    "    new_score[e] = score_dbl\n",
    "\n",
    "nest.ep.Score = new_score\n"
   ]
  },
  {
   "cell_type": "code",
   "execution_count": 29,
   "metadata": {},
   "outputs": [],
   "source": [
    "# pos1 = sfdp_layout(nest, groups=groups, vweight=groups, gamma=0.01, mu=1000, eweight=score, C=0.5, multilevel=True)\n",
    "\n",
    "# Dense cluster\n",
    "#pos1 = sfdp_layout(nest, groups=groups, vweight=groups, gamma=0.01, mu=10000, eweight=score, C=0.5, multilevel=True)\n",
    "\n",
    "# Clusters are closer to each other\n",
    "#pos1 = sfdp_layout(nest, groups=groups, vweight=groups, gamma=10000, mu=10000, eweight=score, C=0.5, multilevel=True)\n",
    "\n",
    "# Final for root\n",
    "#pos1 = sfdp_layout(nest, groups=groups, vweight=groups, gamma=10000, mu=10000, eweight=score, C=0.5)\n",
    "\n",
    "# For sig\n",
    "# pos1 = sfdp_layout(nest, groups=groups, vweight=groups, gamma=10000, mu=10000, eweight=score, C=0.5)\n",
    "pos1 = sfdp_layout(nest, groups=groups, vweight=groups, gamma=10000, mu=10000, eweight=new_score, C=0.5)\n",
    "\n",
    "\n",
    "\n",
    "# graph_draw(nest, pos=pos1, vertex_fill_color=groups, edge_color=[0.7, 0.7,0.7, 0.3], output=\"graph-draw-sfdp-all.pdf\")"
   ]
  },
  {
   "cell_type": "markdown",
   "metadata": {},
   "source": [
    "# Assign positions to the original network"
   ]
  },
  {
   "cell_type": "code",
   "execution_count": 47,
   "metadata": {},
   "outputs": [],
   "source": [
    "gene_names = nest.vp._graphml_vertex_id\n",
    "all_nodes = nest.vertices()\n",
    "\n",
    "position_map = {}\n",
    "for n in all_nodes:\n",
    "    name = gene_names[n]\n",
    "    position = pos1[n]\n",
    "    position_map[name] = position"
   ]
  },
  {
   "cell_type": "code",
   "execution_count": 66,
   "metadata": {},
   "outputs": [],
   "source": [
    "original_layout = root_cx.opaqueAspects[\"cartesianLayout\"]\n",
    "original_nodes = root_cx.nodes\n",
    "\n",
    "id2gene = {}\n",
    "for key in original_nodes:\n",
    "    node = original_nodes[key]\n",
    "    id2gene[node['@id']] = node[\"n\"]"
   ]
  },
  {
   "cell_type": "code",
   "execution_count": 85,
   "metadata": {},
   "outputs": [
    {
     "data": {
      "text/plain": [
       "{'node': 0, 'x': 2368.223388671875, 'y': 1981.9049072265625}"
      ]
     },
     "execution_count": 85,
     "metadata": {},
     "output_type": "execute_result"
    }
   ],
   "source": [
    "final_positions = []\n",
    "SCALING = 300\n",
    "\n",
    "for layout in original_layout:\n",
    "    node_id = layout['node']\n",
    "    gene = id2gene[node_id]\n",
    "    new_position = position_map[gene]\n",
    "    x = new_position[0] * SCALING\n",
    "    y = new_position[1] * SCALING\n",
    "    final_pos = {'node': node_id, 'x': x, 'y': y}\n",
    "    final_positions.append(final_pos)\n",
    "    \n",
    "\n",
    "root_cx.opaqueAspects[\"cartesianLayout\"] = final_positions\n",
    "original_layout[0]"
   ]
  },
  {
   "cell_type": "code",
   "execution_count": 86,
   "metadata": {},
   "outputs": [
    {
     "name": "stdout",
     "output_type": "stream",
     "text": [
      "Generating CX\n"
     ]
    }
   ],
   "source": [
    "import json\n",
    "\n",
    "final_cx = root_cx.to_cx()\n",
    "out_file_name = 'sig_final.cx'\n",
    "\n",
    "with open(out_file_name, 'w') as outfile:\n",
    "    json.dump(final_cx, outfile)"
   ]
  }
 ],
 "metadata": {
  "kernelspec": {
   "display_name": "Python 3",
   "language": "python",
   "name": "python3"
  },
  "language_info": {
   "codemirror_mode": {
    "name": "ipython",
    "version": 3
   },
   "file_extension": ".py",
   "mimetype": "text/x-python",
   "name": "python",
   "nbconvert_exporter": "python",
   "pygments_lexer": "ipython3",
   "version": "3.8.2"
  }
 },
 "nbformat": 4,
 "nbformat_minor": 4
}
